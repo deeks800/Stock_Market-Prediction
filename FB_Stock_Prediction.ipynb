{
  "nbformat": 4,
  "nbformat_minor": 0,
  "metadata": {
    "colab": {
      "name": "FB_Stock Prediction.ipynb",
      "provenance": []
    },
    "kernelspec": {
      "name": "python3",
      "display_name": "Python 3"
    },
    "language_info": {
      "name": "python"
    }
  },
  "cells": [
    {
      "cell_type": "code",
      "metadata": {
        "id": "A7EMbgRuqBL-"
      },
      "source": [
        "import pandas as pd\n",
        "import numpy as np\n",
        "import matplotlib.pyplot as plt\n",
        "import datetime\n",
        "\n",
        "# read in all our data\n",
        "fb_data = pd.read_csv(\"/content/drive/MyDrive/Facebook_data.csv\")\n",
        "\n",
        "# set seed for reproducibility\n",
        "np.random.seed(0) "
      ],
      "execution_count": 1,
      "outputs": []
    },
    {
      "cell_type": "code",
      "metadata": {
        "colab": {
          "base_uri": "https://localhost:8080/",
          "height": 203
        },
        "id": "255GLI21qD_S",
        "outputId": "48f6be5e-8b9a-4773-f296-b176c7df4d86"
      },
      "source": [
        "fb_data.head()"
      ],
      "execution_count": 2,
      "outputs": [
        {
          "output_type": "execute_result",
          "data": {
            "text/html": [
              "<div>\n",
              "<style scoped>\n",
              "    .dataframe tbody tr th:only-of-type {\n",
              "        vertical-align: middle;\n",
              "    }\n",
              "\n",
              "    .dataframe tbody tr th {\n",
              "        vertical-align: top;\n",
              "    }\n",
              "\n",
              "    .dataframe thead th {\n",
              "        text-align: right;\n",
              "    }\n",
              "</style>\n",
              "<table border=\"1\" class=\"dataframe\">\n",
              "  <thead>\n",
              "    <tr style=\"text-align: right;\">\n",
              "      <th></th>\n",
              "      <th>Date</th>\n",
              "      <th>Close/Last</th>\n",
              "      <th>Volume</th>\n",
              "      <th>Open</th>\n",
              "      <th>High</th>\n",
              "      <th>Low</th>\n",
              "    </tr>\n",
              "  </thead>\n",
              "  <tbody>\n",
              "    <tr>\n",
              "      <th>0</th>\n",
              "      <td>07/16/2021</td>\n",
              "      <td>$341.16</td>\n",
              "      <td>11026090.0</td>\n",
              "      <td>$344.91</td>\n",
              "      <td>$345.9899</td>\n",
              "      <td>$340.14</td>\n",
              "    </tr>\n",
              "    <tr>\n",
              "      <th>1</th>\n",
              "      <td>07/15/2021</td>\n",
              "      <td>$344.46</td>\n",
              "      <td>14781590.0</td>\n",
              "      <td>$349.2348</td>\n",
              "      <td>$349.2348</td>\n",
              "      <td>$340.22</td>\n",
              "    </tr>\n",
              "    <tr>\n",
              "      <th>2</th>\n",
              "      <td>07/14/2021</td>\n",
              "      <td>$347.63</td>\n",
              "      <td>13894220.0</td>\n",
              "      <td>$354.56</td>\n",
              "      <td>$355.2</td>\n",
              "      <td>$346.73</td>\n",
              "    </tr>\n",
              "    <tr>\n",
              "      <th>3</th>\n",
              "      <td>07/13/2021</td>\n",
              "      <td>$352.09</td>\n",
              "      <td>11455960.0</td>\n",
              "      <td>$351.5</td>\n",
              "      <td>$358.49</td>\n",
              "      <td>$348.8</td>\n",
              "    </tr>\n",
              "    <tr>\n",
              "      <th>4</th>\n",
              "      <td>07/12/2021</td>\n",
              "      <td>$353.16</td>\n",
              "      <td>10018620.0</td>\n",
              "      <td>$351.23</td>\n",
              "      <td>$354.19</td>\n",
              "      <td>$349.64</td>\n",
              "    </tr>\n",
              "  </tbody>\n",
              "</table>\n",
              "</div>"
            ],
            "text/plain": [
              "         Date Close/Last      Volume       Open       High      Low\n",
              "0  07/16/2021    $341.16  11026090.0    $344.91  $345.9899  $340.14\n",
              "1  07/15/2021    $344.46  14781590.0  $349.2348  $349.2348  $340.22\n",
              "2  07/14/2021    $347.63  13894220.0    $354.56     $355.2  $346.73\n",
              "3  07/13/2021    $352.09  11455960.0     $351.5    $358.49   $348.8\n",
              "4  07/12/2021    $353.16  10018620.0    $351.23    $354.19  $349.64"
            ]
          },
          "metadata": {
            "tags": []
          },
          "execution_count": 2
        }
      ]
    },
    {
      "cell_type": "code",
      "metadata": {
        "colab": {
          "base_uri": "https://localhost:8080/"
        },
        "id": "x7V_oCAXA1YP",
        "outputId": "f0243f64-f481-41e6-d737-a52e2d1858a0"
      },
      "source": [
        "# get the number of missing data points per column\n",
        "mis_val_count = fb_data.isnull().sum()\n",
        "\n",
        "# look at the # of missing points in the columns\n",
        "mis_val_count[:]"
      ],
      "execution_count": 3,
      "outputs": [
        {
          "output_type": "execute_result",
          "data": {
            "text/plain": [
              "Date          0\n",
              "Close/Last    0\n",
              "Volume        1\n",
              "Open          1\n",
              "High          1\n",
              "Low           1\n",
              "dtype: int64"
            ]
          },
          "metadata": {
            "tags": []
          },
          "execution_count": 3
        }
      ]
    },
    {
      "cell_type": "code",
      "metadata": {
        "colab": {
          "base_uri": "https://localhost:8080/"
        },
        "id": "BvoGd8OiA3WP",
        "outputId": "cd59100d-2ce0-4007-f4f4-4496fc0f4af3"
      },
      "source": [
        "# how many total missing values do we have?\n",
        "total_cells = np.product(fb_data.shape)\n",
        "total_missing = mis_val_count.sum()\n",
        "\n",
        "# percent of data that is missing\n",
        "percent_missing = (total_missing/total_cells) * 100\n",
        "print(percent_missing)"
      ],
      "execution_count": 4,
      "outputs": [
        {
          "output_type": "stream",
          "text": [
            "0.052910052910052914\n"
          ],
          "name": "stdout"
        }
      ]
    },
    {
      "cell_type": "code",
      "metadata": {
        "id": "xbNVKoTJA5ki"
      },
      "source": [
        "#as the percentage of missing values is very less we will drop those rows \n",
        "fb_data= fb_data.dropna()"
      ],
      "execution_count": 5,
      "outputs": []
    },
    {
      "cell_type": "code",
      "metadata": {
        "colab": {
          "base_uri": "https://localhost:8080/"
        },
        "id": "wTiCDlMoA73S",
        "outputId": "2df5bc54-ea1e-40fc-937d-a836233c2ad9"
      },
      "source": [
        "# get the number of missing data points per column\n",
        "mis_val_count = fb_data.isnull().sum()\n",
        "\n",
        "# look at the # of missing points in the columns\n",
        "mis_val_count[:]"
      ],
      "execution_count": 6,
      "outputs": [
        {
          "output_type": "execute_result",
          "data": {
            "text/plain": [
              "Date          0\n",
              "Close/Last    0\n",
              "Volume        0\n",
              "Open          0\n",
              "High          0\n",
              "Low           0\n",
              "dtype: int64"
            ]
          },
          "metadata": {
            "tags": []
          },
          "execution_count": 6
        }
      ]
    },
    {
      "cell_type": "code",
      "metadata": {
        "colab": {
          "base_uri": "https://localhost:8080/",
          "height": 234
        },
        "id": "7Ik-SyV2A-LS",
        "outputId": "56e60fa2-d91f-49f4-9c44-ad0b18db6b18"
      },
      "source": [
        "fb_data.set_index(\"Date\", inplace= True)\n",
        "fb_data.head()"
      ],
      "execution_count": 7,
      "outputs": [
        {
          "output_type": "execute_result",
          "data": {
            "text/html": [
              "<div>\n",
              "<style scoped>\n",
              "    .dataframe tbody tr th:only-of-type {\n",
              "        vertical-align: middle;\n",
              "    }\n",
              "\n",
              "    .dataframe tbody tr th {\n",
              "        vertical-align: top;\n",
              "    }\n",
              "\n",
              "    .dataframe thead th {\n",
              "        text-align: right;\n",
              "    }\n",
              "</style>\n",
              "<table border=\"1\" class=\"dataframe\">\n",
              "  <thead>\n",
              "    <tr style=\"text-align: right;\">\n",
              "      <th></th>\n",
              "      <th>Close/Last</th>\n",
              "      <th>Volume</th>\n",
              "      <th>Open</th>\n",
              "      <th>High</th>\n",
              "      <th>Low</th>\n",
              "    </tr>\n",
              "    <tr>\n",
              "      <th>Date</th>\n",
              "      <th></th>\n",
              "      <th></th>\n",
              "      <th></th>\n",
              "      <th></th>\n",
              "      <th></th>\n",
              "    </tr>\n",
              "  </thead>\n",
              "  <tbody>\n",
              "    <tr>\n",
              "      <th>07/16/2021</th>\n",
              "      <td>$341.16</td>\n",
              "      <td>11026090.0</td>\n",
              "      <td>$344.91</td>\n",
              "      <td>$345.9899</td>\n",
              "      <td>$340.14</td>\n",
              "    </tr>\n",
              "    <tr>\n",
              "      <th>07/15/2021</th>\n",
              "      <td>$344.46</td>\n",
              "      <td>14781590.0</td>\n",
              "      <td>$349.2348</td>\n",
              "      <td>$349.2348</td>\n",
              "      <td>$340.22</td>\n",
              "    </tr>\n",
              "    <tr>\n",
              "      <th>07/14/2021</th>\n",
              "      <td>$347.63</td>\n",
              "      <td>13894220.0</td>\n",
              "      <td>$354.56</td>\n",
              "      <td>$355.2</td>\n",
              "      <td>$346.73</td>\n",
              "    </tr>\n",
              "    <tr>\n",
              "      <th>07/13/2021</th>\n",
              "      <td>$352.09</td>\n",
              "      <td>11455960.0</td>\n",
              "      <td>$351.5</td>\n",
              "      <td>$358.49</td>\n",
              "      <td>$348.8</td>\n",
              "    </tr>\n",
              "    <tr>\n",
              "      <th>07/12/2021</th>\n",
              "      <td>$353.16</td>\n",
              "      <td>10018620.0</td>\n",
              "      <td>$351.23</td>\n",
              "      <td>$354.19</td>\n",
              "      <td>$349.64</td>\n",
              "    </tr>\n",
              "  </tbody>\n",
              "</table>\n",
              "</div>"
            ],
            "text/plain": [
              "           Close/Last      Volume       Open       High      Low\n",
              "Date                                                            \n",
              "07/16/2021    $341.16  11026090.0    $344.91  $345.9899  $340.14\n",
              "07/15/2021    $344.46  14781590.0  $349.2348  $349.2348  $340.22\n",
              "07/14/2021    $347.63  13894220.0    $354.56     $355.2  $346.73\n",
              "07/13/2021    $352.09  11455960.0     $351.5    $358.49   $348.8\n",
              "07/12/2021    $353.16  10018620.0    $351.23    $354.19  $349.64"
            ]
          },
          "metadata": {
            "tags": []
          },
          "execution_count": 7
        }
      ]
    },
    {
      "cell_type": "code",
      "metadata": {
        "colab": {
          "base_uri": "https://localhost:8080/"
        },
        "id": "K7Xa_CLgBBCp",
        "outputId": "d23d7202-358a-464d-e24d-9f95f3c5dd7b"
      },
      "source": [
        "fb_data.info()"
      ],
      "execution_count": 8,
      "outputs": [
        {
          "output_type": "stream",
          "text": [
            "<class 'pandas.core.frame.DataFrame'>\n",
            "Index: 1259 entries, 07/16/2021 to 07/18/2016\n",
            "Data columns (total 5 columns):\n",
            " #   Column      Non-Null Count  Dtype  \n",
            "---  ------      --------------  -----  \n",
            " 0   Close/Last  1259 non-null   object \n",
            " 1   Volume      1259 non-null   float64\n",
            " 2   Open        1259 non-null   object \n",
            " 3   High        1259 non-null   object \n",
            " 4   Low         1259 non-null   object \n",
            "dtypes: float64(1), object(4)\n",
            "memory usage: 59.0+ KB\n"
          ],
          "name": "stdout"
        }
      ]
    },
    {
      "cell_type": "code",
      "metadata": {
        "id": "USo8tGTRBEAO"
      },
      "source": [
        "#removing $ symbol\n",
        "fb_data['Close/Last']=fb_data['Close/Last'].map(lambda x:str(x).strip(\"$\") if '$' in str(x) else str(x))\n",
        "fb_data['Open']=fb_data['Open'].map(lambda x:str(x).strip(\"$\") if '$' in str(x) else str(x))\n",
        "fb_data['High']=fb_data['High'].map(lambda x:str(x).strip(\"$\") if '$' in str(x) else str(x))\n",
        "fb_data['Low']=fb_data['Low'].map(lambda x:str(x).strip(\"$\") if '$' in str(x) else str(x))\n"
      ],
      "execution_count": 9,
      "outputs": []
    },
    {
      "cell_type": "code",
      "metadata": {
        "colab": {
          "base_uri": "https://localhost:8080/",
          "height": 234
        },
        "id": "LOr9MS3nBGfj",
        "outputId": "f45aec87-a2f0-42a5-93cf-0328e1e6756d"
      },
      "source": [
        "fb_data.head()\n"
      ],
      "execution_count": 10,
      "outputs": [
        {
          "output_type": "execute_result",
          "data": {
            "text/html": [
              "<div>\n",
              "<style scoped>\n",
              "    .dataframe tbody tr th:only-of-type {\n",
              "        vertical-align: middle;\n",
              "    }\n",
              "\n",
              "    .dataframe tbody tr th {\n",
              "        vertical-align: top;\n",
              "    }\n",
              "\n",
              "    .dataframe thead th {\n",
              "        text-align: right;\n",
              "    }\n",
              "</style>\n",
              "<table border=\"1\" class=\"dataframe\">\n",
              "  <thead>\n",
              "    <tr style=\"text-align: right;\">\n",
              "      <th></th>\n",
              "      <th>Close/Last</th>\n",
              "      <th>Volume</th>\n",
              "      <th>Open</th>\n",
              "      <th>High</th>\n",
              "      <th>Low</th>\n",
              "    </tr>\n",
              "    <tr>\n",
              "      <th>Date</th>\n",
              "      <th></th>\n",
              "      <th></th>\n",
              "      <th></th>\n",
              "      <th></th>\n",
              "      <th></th>\n",
              "    </tr>\n",
              "  </thead>\n",
              "  <tbody>\n",
              "    <tr>\n",
              "      <th>07/16/2021</th>\n",
              "      <td>341.16</td>\n",
              "      <td>11026090.0</td>\n",
              "      <td>344.91</td>\n",
              "      <td>345.9899</td>\n",
              "      <td>340.14</td>\n",
              "    </tr>\n",
              "    <tr>\n",
              "      <th>07/15/2021</th>\n",
              "      <td>344.46</td>\n",
              "      <td>14781590.0</td>\n",
              "      <td>349.2348</td>\n",
              "      <td>349.2348</td>\n",
              "      <td>340.22</td>\n",
              "    </tr>\n",
              "    <tr>\n",
              "      <th>07/14/2021</th>\n",
              "      <td>347.63</td>\n",
              "      <td>13894220.0</td>\n",
              "      <td>354.56</td>\n",
              "      <td>355.2</td>\n",
              "      <td>346.73</td>\n",
              "    </tr>\n",
              "    <tr>\n",
              "      <th>07/13/2021</th>\n",
              "      <td>352.09</td>\n",
              "      <td>11455960.0</td>\n",
              "      <td>351.5</td>\n",
              "      <td>358.49</td>\n",
              "      <td>348.8</td>\n",
              "    </tr>\n",
              "    <tr>\n",
              "      <th>07/12/2021</th>\n",
              "      <td>353.16</td>\n",
              "      <td>10018620.0</td>\n",
              "      <td>351.23</td>\n",
              "      <td>354.19</td>\n",
              "      <td>349.64</td>\n",
              "    </tr>\n",
              "  </tbody>\n",
              "</table>\n",
              "</div>"
            ],
            "text/plain": [
              "           Close/Last      Volume      Open      High     Low\n",
              "Date                                                         \n",
              "07/16/2021     341.16  11026090.0    344.91  345.9899  340.14\n",
              "07/15/2021     344.46  14781590.0  349.2348  349.2348  340.22\n",
              "07/14/2021     347.63  13894220.0    354.56     355.2  346.73\n",
              "07/13/2021     352.09  11455960.0     351.5    358.49   348.8\n",
              "07/12/2021     353.16  10018620.0    351.23    354.19  349.64"
            ]
          },
          "metadata": {
            "tags": []
          },
          "execution_count": 10
        }
      ]
    },
    {
      "cell_type": "code",
      "metadata": {
        "id": "up5J3RmhBIkT"
      },
      "source": [
        "fb_data['Close/Last'] =fb_data['Close/Last'] .astype(str).astype(float)\n",
        "fb_data['Open']=fb_data['Open'].astype(str).astype(float)\n",
        "fb_data['High']=fb_data['High'].astype(str).astype(float)\n",
        "fb_data['Low']=fb_data['Low'].astype(str).astype(float)"
      ],
      "execution_count": 11,
      "outputs": []
    },
    {
      "cell_type": "code",
      "metadata": {
        "colab": {
          "base_uri": "https://localhost:8080/"
        },
        "id": "RqRkKXcVBKrY",
        "outputId": "cba8f4b0-8aae-4eb4-a8b0-2a644d48375b"
      },
      "source": [
        "fb_data.head()\n",
        "fb_data.info()\n"
      ],
      "execution_count": 12,
      "outputs": [
        {
          "output_type": "stream",
          "text": [
            "<class 'pandas.core.frame.DataFrame'>\n",
            "Index: 1259 entries, 07/16/2021 to 07/18/2016\n",
            "Data columns (total 5 columns):\n",
            " #   Column      Non-Null Count  Dtype  \n",
            "---  ------      --------------  -----  \n",
            " 0   Close/Last  1259 non-null   float64\n",
            " 1   Volume      1259 non-null   float64\n",
            " 2   Open        1259 non-null   float64\n",
            " 3   High        1259 non-null   float64\n",
            " 4   Low         1259 non-null   float64\n",
            "dtypes: float64(5)\n",
            "memory usage: 59.0+ KB\n"
          ],
          "name": "stdout"
        }
      ]
    },
    {
      "cell_type": "code",
      "metadata": {
        "colab": {
          "base_uri": "https://localhost:8080/",
          "height": 405
        },
        "id": "ljDsxxkrBNQQ",
        "outputId": "cb4ac532-218b-41d6-c4d4-d7df3be84587"
      },
      "source": [
        "fb_data['Open'].plot(figsize=(16,6))"
      ],
      "execution_count": 13,
      "outputs": [
        {
          "output_type": "execute_result",
          "data": {
            "text/plain": [
              "<matplotlib.axes._subplots.AxesSubplot at 0x7f8babcb4f90>"
            ]
          },
          "metadata": {
            "tags": []
          },
          "execution_count": 13
        },
        {
          "output_type": "display_data",
          "data": {
            "image/png": "[encoded data removed]",
            "text/plain": [
              "<Figure size 1152x432 with 1 Axes>"
            ]
          },
          "metadata": {
            "tags": [],
            "needs_background": "light"
          }
        }
      ]
    },
    {
      "cell_type": "code",
      "metadata": {
        "colab": {
          "base_uri": "https://localhost:8080/",
          "height": 696
        },
        "id": "G8Q18NeWBPo3",
        "outputId": "6311fdbd-8bff-499c-ae4f-fc3c45f822cc"
      },
      "source": [
        "fb_data.rolling(7).mean().head(20)"
      ],
      "execution_count": 14,
      "outputs": [
        {
          "output_type": "execute_result",
          "data": {
            "text/html": [
              "<div>\n",
              "<style scoped>\n",
              "    .dataframe tbody tr th:only-of-type {\n",
              "        vertical-align: middle;\n",
              "    }\n",
              "\n",
              "    .dataframe tbody tr th {\n",
              "        vertical-align: top;\n",
              "    }\n",
              "\n",
              "    .dataframe thead th {\n",
              "        text-align: right;\n",
              "    }\n",
              "</style>\n",
              "<table border=\"1\" class=\"dataframe\">\n",
              "  <thead>\n",
              "    <tr style=\"text-align: right;\">\n",
              "      <th></th>\n",
              "      <th>Close/Last</th>\n",
              "      <th>Volume</th>\n",
              "      <th>Open</th>\n",
              "      <th>High</th>\n",
              "      <th>Low</th>\n",
              "    </tr>\n",
              "    <tr>\n",
              "      <th>Date</th>\n",
              "      <th></th>\n",
              "      <th></th>\n",
              "      <th></th>\n",
              "      <th></th>\n",
              "      <th></th>\n",
              "    </tr>\n",
              "  </thead>\n",
              "  <tbody>\n",
              "    <tr>\n",
              "      <th>07/16/2021</th>\n",
              "      <td>NaN</td>\n",
              "      <td>NaN</td>\n",
              "      <td>NaN</td>\n",
              "      <td>NaN</td>\n",
              "      <td>NaN</td>\n",
              "    </tr>\n",
              "    <tr>\n",
              "      <th>07/15/2021</th>\n",
              "      <td>NaN</td>\n",
              "      <td>NaN</td>\n",
              "      <td>NaN</td>\n",
              "      <td>NaN</td>\n",
              "      <td>NaN</td>\n",
              "    </tr>\n",
              "    <tr>\n",
              "      <th>07/14/2021</th>\n",
              "      <td>NaN</td>\n",
              "      <td>NaN</td>\n",
              "      <td>NaN</td>\n",
              "      <td>NaN</td>\n",
              "      <td>NaN</td>\n",
              "    </tr>\n",
              "    <tr>\n",
              "      <th>07/13/2021</th>\n",
              "      <td>NaN</td>\n",
              "      <td>NaN</td>\n",
              "      <td>NaN</td>\n",
              "      <td>NaN</td>\n",
              "      <td>NaN</td>\n",
              "    </tr>\n",
              "    <tr>\n",
              "      <th>07/12/2021</th>\n",
              "      <td>NaN</td>\n",
              "      <td>NaN</td>\n",
              "      <td>NaN</td>\n",
              "      <td>NaN</td>\n",
              "      <td>NaN</td>\n",
              "    </tr>\n",
              "    <tr>\n",
              "      <th>07/09/2021</th>\n",
              "      <td>NaN</td>\n",
              "      <td>NaN</td>\n",
              "      <td>NaN</td>\n",
              "      <td>NaN</td>\n",
              "      <td>NaN</td>\n",
              "    </tr>\n",
              "    <tr>\n",
              "      <th>07/08/2021</th>\n",
              "      <td>347.795714</td>\n",
              "      <td>1.265738e+07</td>\n",
              "      <td>348.926400</td>\n",
              "      <td>351.734957</td>\n",
              "      <td>344.765000</td>\n",
              "    </tr>\n",
              "    <tr>\n",
              "      <th>07/07/2021</th>\n",
              "      <td>349.128571</td>\n",
              "      <td>1.311349e+07</td>\n",
              "      <td>350.404971</td>\n",
              "      <td>353.234971</td>\n",
              "      <td>346.173571</td>\n",
              "    </tr>\n",
              "    <tr>\n",
              "      <th>07/06/2021</th>\n",
              "      <td>350.317143</td>\n",
              "      <td>1.292875e+07</td>\n",
              "      <td>351.442857</td>\n",
              "      <td>354.600000</td>\n",
              "      <td>347.453571</td>\n",
              "    </tr>\n",
              "    <tr>\n",
              "      <th>07/02/2021</th>\n",
              "      <td>351.327143</td>\n",
              "      <td>1.259024e+07</td>\n",
              "      <td>351.520000</td>\n",
              "      <td>354.777143</td>\n",
              "      <td>348.295000</td>\n",
              "    </tr>\n",
              "    <tr>\n",
              "      <th>07/01/2021</th>\n",
              "      <td>351.655714</td>\n",
              "      <td>1.340182e+07</td>\n",
              "      <td>350.851429</td>\n",
              "      <td>354.231414</td>\n",
              "      <td>347.966429</td>\n",
              "    </tr>\n",
              "    <tr>\n",
              "      <th>06/30/2021</th>\n",
              "      <td>350.877143</td>\n",
              "      <td>1.412880e+07</td>\n",
              "      <td>350.985000</td>\n",
              "      <td>354.049986</td>\n",
              "      <td>347.613571</td>\n",
              "    </tr>\n",
              "    <tr>\n",
              "      <th>06/29/2021</th>\n",
              "      <td>351.087143</td>\n",
              "      <td>1.532861e+07</td>\n",
              "      <td>352.549286</td>\n",
              "      <td>354.911414</td>\n",
              "      <td>348.154286</td>\n",
              "    </tr>\n",
              "    <tr>\n",
              "      <th>06/28/2021</th>\n",
              "      <td>352.514286</td>\n",
              "      <td>1.743570e+07</td>\n",
              "      <td>352.082143</td>\n",
              "      <td>356.312843</td>\n",
              "      <td>348.041429</td>\n",
              "    </tr>\n",
              "    <tr>\n",
              "      <th>06/25/2021</th>\n",
              "      <td>351.211429</td>\n",
              "      <td>1.748935e+07</td>\n",
              "      <td>350.272143</td>\n",
              "      <td>354.545700</td>\n",
              "      <td>346.567143</td>\n",
              "    </tr>\n",
              "    <tr>\n",
              "      <th>06/24/2021</th>\n",
              "      <td>349.840000</td>\n",
              "      <td>1.732373e+07</td>\n",
              "      <td>348.179286</td>\n",
              "      <td>352.561414</td>\n",
              "      <td>345.511429</td>\n",
              "    </tr>\n",
              "    <tr>\n",
              "      <th>06/23/2021</th>\n",
              "      <td>347.824286</td>\n",
              "      <td>1.779419e+07</td>\n",
              "      <td>345.929286</td>\n",
              "      <td>350.701400</td>\n",
              "      <td>343.451429</td>\n",
              "    </tr>\n",
              "    <tr>\n",
              "      <th>06/22/2021</th>\n",
              "      <td>345.630000</td>\n",
              "      <td>1.753823e+07</td>\n",
              "      <td>343.910000</td>\n",
              "      <td>348.594271</td>\n",
              "      <td>341.465714</td>\n",
              "    </tr>\n",
              "    <tr>\n",
              "      <th>06/21/2021</th>\n",
              "      <td>343.427143</td>\n",
              "      <td>1.699966e+07</td>\n",
              "      <td>340.899286</td>\n",
              "      <td>345.737129</td>\n",
              "      <td>338.677143</td>\n",
              "    </tr>\n",
              "    <tr>\n",
              "      <th>06/18/2021</th>\n",
              "      <td>340.251429</td>\n",
              "      <td>1.723140e+07</td>\n",
              "      <td>337.793571</td>\n",
              "      <td>342.795700</td>\n",
              "      <td>335.812857</td>\n",
              "    </tr>\n",
              "  </tbody>\n",
              "</table>\n",
              "</div>"
            ],
            "text/plain": [
              "            Close/Last        Volume        Open        High         Low\n",
              "Date                                                                    \n",
              "07/16/2021         NaN           NaN         NaN         NaN         NaN\n",
              "07/15/2021         NaN           NaN         NaN         NaN         NaN\n",
              "07/14/2021         NaN           NaN         NaN         NaN         NaN\n",
              "07/13/2021         NaN           NaN         NaN         NaN         NaN\n",
              "07/12/2021         NaN           NaN         NaN         NaN         NaN\n",
              "07/09/2021         NaN           NaN         NaN         NaN         NaN\n",
              "07/08/2021  347.795714  1.265738e+07  348.926400  351.734957  344.765000\n",
              "07/07/2021  349.128571  1.311349e+07  350.404971  353.234971  346.173571\n",
              "07/06/2021  350.317143  1.292875e+07  351.442857  354.600000  347.453571\n",
              "07/02/2021  351.327143  1.259024e+07  351.520000  354.777143  348.295000\n",
              "07/01/2021  351.655714  1.340182e+07  350.851429  354.231414  347.966429\n",
              "06/30/2021  350.877143  1.412880e+07  350.985000  354.049986  347.613571\n",
              "06/29/2021  351.087143  1.532861e+07  352.549286  354.911414  348.154286\n",
              "06/28/2021  352.514286  1.743570e+07  352.082143  356.312843  348.041429\n",
              "06/25/2021  351.211429  1.748935e+07  350.272143  354.545700  346.567143\n",
              "06/24/2021  349.840000  1.732373e+07  348.179286  352.561414  345.511429\n",
              "06/23/2021  347.824286  1.779419e+07  345.929286  350.701400  343.451429\n",
              "06/22/2021  345.630000  1.753823e+07  343.910000  348.594271  341.465714\n",
              "06/21/2021  343.427143  1.699966e+07  340.899286  345.737129  338.677143\n",
              "06/18/2021  340.251429  1.723140e+07  337.793571  342.795700  335.812857"
            ]
          },
          "metadata": {
            "tags": []
          },
          "execution_count": 14
        }
      ]
    },
    {
      "cell_type": "code",
      "metadata": {
        "colab": {
          "base_uri": "https://localhost:8080/",
          "height": 405
        },
        "id": "l2hutiW8BRsA",
        "outputId": "aeb4616a-a2aa-4a85-b025-94050bacd4bc"
      },
      "source": [
        "fb_data['Open'].plot(figsize=(16,6))\n",
        "fb_data.rolling(window=30).mean()['Close/Last'].plot()"
      ],
      "execution_count": 15,
      "outputs": [
        {
          "output_type": "execute_result",
          "data": {
            "text/plain": [
              "<matplotlib.axes._subplots.AxesSubplot at 0x7f8babbd2c50>"
            ]
          },
          "metadata": {
            "tags": []
          },
          "execution_count": 15
        },
        {
          "output_type": "display_data",
          "data": {
            "image/png": "[encoded data removed]",
            "text/plain": [
              "<Figure size 1152x432 with 1 Axes>"
            ]
          },
          "metadata": {
            "tags": [],
            "needs_background": "light"
          }
        }
      ]
    },
    {
      "cell_type": "code",
      "metadata": {
        "colab": {
          "base_uri": "https://localhost:8080/",
          "height": 405
        },
        "id": "Gk9Jm1EsBU4T",
        "outputId": "147158a9-8190-47ee-fca1-08051a986896"
      },
      "source": [
        "fb_data['Close: 30 Day Mean']=fb_data['Close/Last'].rolling(window=30).mean()\n",
        "fb_data[['Close/Last', 'Close: 30 Day Mean']].plot(figsize=(16,6))"
      ],
      "execution_count": 16,
      "outputs": [
        {
          "output_type": "execute_result",
          "data": {
            "text/plain": [
              "<matplotlib.axes._subplots.AxesSubplot at 0x7f8ba4817250>"
            ]
          },
          "metadata": {
            "tags": []
          },
          "execution_count": 16
        },
        {
          "output_type": "display_data",
          "data": {
            "image/png": "[encoded data removed]",
            "text/plain": [
              "<Figure size 1152x432 with 1 Axes>"
            ]
          },
          "metadata": {
            "tags": [],
            "needs_background": "light"
          }
        }
      ]
    },
    {
      "cell_type": "code",
      "metadata": {
        "colab": {
          "base_uri": "https://localhost:8080/",
          "height": 405
        },
        "id": "jiBpdcPIBXys",
        "outputId": "e9ff52b8-5d32-48bd-c792-587db99910ae"
      },
      "source": [
        "#minimum number pof periods\n",
        "fb_data['Close/Last'].expanding(min_periods=1).mean().plot(figsize=(16,6))"
      ],
      "execution_count": 17,
      "outputs": [
        {
          "output_type": "execute_result",
          "data": {
            "text/plain": [
              "<matplotlib.axes._subplots.AxesSubplot at 0x7f8ba479b790>"
            ]
          },
          "metadata": {
            "tags": []
          },
          "execution_count": 17
        },
        {
          "output_type": "display_data",
          "data": {
            "image/png": "[encoded data removed]",
            "text/plain": [
              "<Figure size 1152x432 with 1 Axes>"
            ]
          },
          "metadata": {
            "tags": [],
            "needs_background": "light"
          }
        }
      ]
    },
    {
      "cell_type": "code",
      "metadata": {
        "colab": {
          "base_uri": "https://localhost:8080/",
          "height": 376
        },
        "id": "T-bStF_YBZqc",
        "outputId": "8a40907d-35cc-4c43-e65c-2c65d198d357"
      },
      "source": [
        "import seaborn as sns\n",
        "correlation = fb_data.corr()\n",
        "sns.heatmap(correlation,xticklabels=correlation.columns,yticklabels=correlation.columns,annot=True)"
      ],
      "execution_count": 18,
      "outputs": [
        {
          "output_type": "execute_result",
          "data": {
            "text/plain": [
              "<matplotlib.axes._subplots.AxesSubplot at 0x7f8b945249d0>"
            ]
          },
          "metadata": {
            "tags": []
          },
          "execution_count": 18
        },
        {
          "output_type": "display_data",
          "data": {
            "image/png": "[encoded data removed]",
            "text/plain": [
              "<Figure size 432x288 with 2 Axes>"
            ]
          },
          "metadata": {
            "tags": [],
            "needs_background": "light"
          }
        }
      ]
    },
    {
      "cell_type": "code",
      "metadata": {
        "id": "BW45xstfDoVs"
      },
      "source": [
        "training_set=fb_data['Open']\n",
        "training_set=pd.DataFrame(training_set)"
      ],
      "execution_count": 19,
      "outputs": []
    },
    {
      "cell_type": "code",
      "metadata": {
        "id": "nIfOUbIJBbwM"
      },
      "source": [
        "from sklearn.preprocessing import MinMaxScaler\n",
        "sc= MinMaxScaler(feature_range=(0,1))\n",
        "training_set_scaled= sc.fit_transform(training_set)"
      ],
      "execution_count": 20,
      "outputs": []
    },
    {
      "cell_type": "code",
      "metadata": {
        "id": "DyareUB_EUyf"
      },
      "source": [
        "X_train=[]\n",
        "y_train=[]\n",
        "for i in range(60,1258):\n",
        "  X_train.append(training_set_scaled[i-60:i,0])\n",
        "  y_train.append(training_set_scaled[i,0])\n",
        "X_train, y_train= np.array(X_train), np.array(y_train)\n",
        "\n",
        "X_train=np.reshape(X_train, (X_train.shape[0], X_train.shape[1],1))"
      ],
      "execution_count": 21,
      "outputs": []
    },
    {
      "cell_type": "code",
      "metadata": {
        "id": "mQUFj-SUF75I"
      },
      "source": [
        "#Building RNN\n",
        "\n",
        "from keras.models import Sequential \n",
        "from keras.layers import Dense\n",
        "from keras.layers import LSTM\n",
        "from keras.layers import Dropout"
      ],
      "execution_count": 22,
      "outputs": []
    },
    {
      "cell_type": "code",
      "metadata": {
        "id": "30_kyjfwGjU_"
      },
      "source": [
        "regressor=Sequential()"
      ],
      "execution_count": 23,
      "outputs": []
    },
    {
      "cell_type": "code",
      "metadata": {
        "id": "hS9CFbPeGnc0"
      },
      "source": [
        "regressor.add(LSTM(units=50, return_sequences = True, input_shape=(X_train.shape[1],1)))\n",
        "regressor.add(Dropout(0.2))\n",
        "\n",
        "regressor.add(LSTM(units=50, return_sequences = True))\n",
        "regressor.add(Dropout(0.2))\n",
        "\n",
        "regressor.add(LSTM(units=50, return_sequences = True))\n",
        "regressor.add(Dropout(0.2))\n",
        "\n",
        "regressor.add(LSTM(units=50))\n",
        "regressor.add(Dropout(0.2))\n",
        "\n",
        "regressor.add(Dense(units=1))"
      ],
      "execution_count": 25,
      "outputs": []
    },
    {
      "cell_type": "code",
      "metadata": {
        "colab": {
          "base_uri": "https://localhost:8080/"
        },
        "id": "jFxM2lDjhQq6",
        "outputId": "38f7e06f-edca-4860-c5f7-f942498bb05d"
      },
      "source": [
        "regressor.compile(optimizer='adam', loss='mean_squared_error')\n",
        "\n",
        "regressor.fit(X_train, y_train, epochs=50, batch_size=32)"
      ],
      "execution_count": 26,
      "outputs": [
        {
          "output_type": "stream",
          "text": [
            "Epoch 1/50\n",
            "38/38 [==============================] - 27s 104ms/step - loss: 0.0362\n",
            "Epoch 2/50\n",
            "38/38 [==============================] - 4s 105ms/step - loss: 0.0049\n",
            "Epoch 3/50\n",
            "38/38 [==============================] - 4s 108ms/step - loss: 0.0046\n",
            "Epoch 4/50\n",
            "38/38 [==============================] - 4s 104ms/step - loss: 0.0039\n",
            "Epoch 5/50\n",
            "38/38 [==============================] - 4s 107ms/step - loss: 0.0031\n",
            "Epoch 6/50\n",
            "38/38 [==============================] - 4s 106ms/step - loss: 0.0032\n",
            "Epoch 7/50\n",
            "38/38 [==============================] - 4s 104ms/step - loss: 0.0029\n",
            "Epoch 8/50\n",
            "38/38 [==============================] - 4s 108ms/step - loss: 0.0027\n",
            "Epoch 9/50\n",
            "38/38 [==============================] - 4s 105ms/step - loss: 0.0027\n",
            "Epoch 10/50\n",
            "38/38 [==============================] - 4s 105ms/step - loss: 0.0022\n",
            "Epoch 11/50\n",
            "38/38 [==============================] - 4s 105ms/step - loss: 0.0024\n",
            "Epoch 12/50\n",
            "38/38 [==============================] - 4s 104ms/step - loss: 0.0024\n",
            "Epoch 13/50\n",
            "38/38 [==============================] - 4s 104ms/step - loss: 0.0021\n",
            "Epoch 14/50\n",
            "38/38 [==============================] - 4s 106ms/step - loss: 0.0023\n",
            "Epoch 15/50\n",
            "38/38 [==============================] - 4s 105ms/step - loss: 0.0024\n",
            "Epoch 16/50\n",
            "38/38 [==============================] - 4s 105ms/step - loss: 0.0021\n",
            "Epoch 17/50\n",
            "38/38 [==============================] - 4s 105ms/step - loss: 0.0022\n",
            "Epoch 18/50\n",
            "38/38 [==============================] - 4s 106ms/step - loss: 0.0023\n",
            "Epoch 19/50\n",
            "38/38 [==============================] - 4s 104ms/step - loss: 0.0027\n",
            "Epoch 20/50\n",
            "38/38 [==============================] - 4s 107ms/step - loss: 0.0023\n",
            "Epoch 21/50\n",
            "38/38 [==============================] - 4s 108ms/step - loss: 0.0020\n",
            "Epoch 22/50\n",
            "38/38 [==============================] - 4s 106ms/step - loss: 0.0017\n",
            "Epoch 23/50\n",
            "38/38 [==============================] - 4s 105ms/step - loss: 0.0018\n",
            "Epoch 24/50\n",
            "38/38 [==============================] - 4s 105ms/step - loss: 0.0018\n",
            "Epoch 25/50\n",
            "38/38 [==============================] - 4s 105ms/step - loss: 0.0020\n",
            "Epoch 26/50\n",
            "38/38 [==============================] - 4s 105ms/step - loss: 0.0016\n",
            "Epoch 27/50\n",
            "38/38 [==============================] - 4s 107ms/step - loss: 0.0019\n",
            "Epoch 28/50\n",
            "38/38 [==============================] - 4s 108ms/step - loss: 0.0016\n",
            "Epoch 29/50\n",
            "38/38 [==============================] - 4s 108ms/step - loss: 0.0016\n",
            "Epoch 30/50\n",
            "38/38 [==============================] - 4s 106ms/step - loss: 0.0016\n",
            "Epoch 31/50\n",
            "38/38 [==============================] - 4s 107ms/step - loss: 0.0015\n",
            "Epoch 32/50\n",
            "38/38 [==============================] - 4s 104ms/step - loss: 0.0019\n",
            "Epoch 33/50\n",
            "38/38 [==============================] - 4s 105ms/step - loss: 0.0013\n",
            "Epoch 34/50\n",
            "38/38 [==============================] - 4s 105ms/step - loss: 0.0014\n",
            "Epoch 35/50\n",
            "38/38 [==============================] - 4s 105ms/step - loss: 0.0017\n",
            "Epoch 36/50\n",
            "38/38 [==============================] - 4s 105ms/step - loss: 0.0016\n",
            "Epoch 37/50\n",
            "38/38 [==============================] - 4s 105ms/step - loss: 0.0015\n",
            "Epoch 38/50\n",
            "38/38 [==============================] - 4s 104ms/step - loss: 0.0015\n",
            "Epoch 39/50\n",
            "38/38 [==============================] - 4s 105ms/step - loss: 0.0017\n",
            "Epoch 40/50\n",
            "38/38 [==============================] - 4s 104ms/step - loss: 0.0015\n",
            "Epoch 41/50\n",
            "38/38 [==============================] - 4s 105ms/step - loss: 0.0015\n",
            "Epoch 42/50\n",
            "38/38 [==============================] - 4s 105ms/step - loss: 0.0014\n",
            "Epoch 43/50\n",
            "38/38 [==============================] - 4s 106ms/step - loss: 0.0012\n",
            "Epoch 44/50\n",
            "38/38 [==============================] - 4s 104ms/step - loss: 0.0013\n",
            "Epoch 45/50\n",
            "38/38 [==============================] - 4s 105ms/step - loss: 0.0013\n",
            "Epoch 46/50\n",
            "38/38 [==============================] - 4s 105ms/step - loss: 0.0016\n",
            "Epoch 47/50\n",
            "38/38 [==============================] - 4s 105ms/step - loss: 0.0012\n",
            "Epoch 48/50\n",
            "38/38 [==============================] - 4s 107ms/step - loss: 0.0015\n",
            "Epoch 49/50\n",
            "38/38 [==============================] - 4s 107ms/step - loss: 0.0011\n",
            "Epoch 50/50\n",
            "38/38 [==============================] - 4s 107ms/step - loss: 0.0013\n"
          ],
          "name": "stdout"
        },
        {
          "output_type": "execute_result",
          "data": {
            "text/plain": [
              "<keras.callbacks.History at 0x7f8b4b30fd50>"
            ]
          },
          "metadata": {
            "tags": []
          },
          "execution_count": 26
        }
      ]
    },
    {
      "cell_type": "code",
      "metadata": {
        "id": "R1t0eLZmh3uZ"
      },
      "source": [
        "data_test= fb_data"
      ],
      "execution_count": 27,
      "outputs": []
    },
    {
      "cell_type": "code",
      "metadata": {
        "id": "EBPsfX3CmAsu"
      },
      "source": [
        "real_stock_price =data_test.iloc[:,1:2].values"
      ],
      "execution_count": 28,
      "outputs": []
    },
    {
      "cell_type": "code",
      "metadata": {
        "colab": {
          "base_uri": "https://localhost:8080/",
          "height": 234
        },
        "id": "ddpWkkm0mUtC",
        "outputId": "b739195c-5a8d-4080-fcb4-f107a6170088"
      },
      "source": [
        "data_test.head()"
      ],
      "execution_count": 29,
      "outputs": [
        {
          "output_type": "execute_result",
          "data": {
            "text/html": [
              "<div>\n",
              "<style scoped>\n",
              "    .dataframe tbody tr th:only-of-type {\n",
              "        vertical-align: middle;\n",
              "    }\n",
              "\n",
              "    .dataframe tbody tr th {\n",
              "        vertical-align: top;\n",
              "    }\n",
              "\n",
              "    .dataframe thead th {\n",
              "        text-align: right;\n",
              "    }\n",
              "</style>\n",
              "<table border=\"1\" class=\"dataframe\">\n",
              "  <thead>\n",
              "    <tr style=\"text-align: right;\">\n",
              "      <th></th>\n",
              "      <th>Close/Last</th>\n",
              "      <th>Volume</th>\n",
              "      <th>Open</th>\n",
              "      <th>High</th>\n",
              "      <th>Low</th>\n",
              "      <th>Close: 30 Day Mean</th>\n",
              "    </tr>\n",
              "    <tr>\n",
              "      <th>Date</th>\n",
              "      <th></th>\n",
              "      <th></th>\n",
              "      <th></th>\n",
              "      <th></th>\n",
              "      <th></th>\n",
              "      <th></th>\n",
              "    </tr>\n",
              "  </thead>\n",
              "  <tbody>\n",
              "    <tr>\n",
              "      <th>07/16/2021</th>\n",
              "      <td>341.16</td>\n",
              "      <td>11026090.0</td>\n",
              "      <td>344.9100</td>\n",
              "      <td>345.9899</td>\n",
              "      <td>340.14</td>\n",
              "      <td>NaN</td>\n",
              "    </tr>\n",
              "    <tr>\n",
              "      <th>07/15/2021</th>\n",
              "      <td>344.46</td>\n",
              "      <td>14781590.0</td>\n",
              "      <td>349.2348</td>\n",
              "      <td>349.2348</td>\n",
              "      <td>340.22</td>\n",
              "      <td>NaN</td>\n",
              "    </tr>\n",
              "    <tr>\n",
              "      <th>07/14/2021</th>\n",
              "      <td>347.63</td>\n",
              "      <td>13894220.0</td>\n",
              "      <td>354.5600</td>\n",
              "      <td>355.2000</td>\n",
              "      <td>346.73</td>\n",
              "      <td>NaN</td>\n",
              "    </tr>\n",
              "    <tr>\n",
              "      <th>07/13/2021</th>\n",
              "      <td>352.09</td>\n",
              "      <td>11455960.0</td>\n",
              "      <td>351.5000</td>\n",
              "      <td>358.4900</td>\n",
              "      <td>348.80</td>\n",
              "      <td>NaN</td>\n",
              "    </tr>\n",
              "    <tr>\n",
              "      <th>07/12/2021</th>\n",
              "      <td>353.16</td>\n",
              "      <td>10018620.0</td>\n",
              "      <td>351.2300</td>\n",
              "      <td>354.1900</td>\n",
              "      <td>349.64</td>\n",
              "      <td>NaN</td>\n",
              "    </tr>\n",
              "  </tbody>\n",
              "</table>\n",
              "</div>"
            ],
            "text/plain": [
              "            Close/Last      Volume  ...     Low  Close: 30 Day Mean\n",
              "Date                                ...                            \n",
              "07/16/2021      341.16  11026090.0  ...  340.14                 NaN\n",
              "07/15/2021      344.46  14781590.0  ...  340.22                 NaN\n",
              "07/14/2021      347.63  13894220.0  ...  346.73                 NaN\n",
              "07/13/2021      352.09  11455960.0  ...  348.80                 NaN\n",
              "07/12/2021      353.16  10018620.0  ...  349.64                 NaN\n",
              "\n",
              "[5 rows x 6 columns]"
            ]
          },
          "metadata": {
            "tags": []
          },
          "execution_count": 29
        }
      ]
    },
    {
      "cell_type": "code",
      "metadata": {
        "colab": {
          "base_uri": "https://localhost:8080/"
        },
        "id": "2xPksJu3mXT1",
        "outputId": "43446a9d-f640-4824-d421-c53598de7e39"
      },
      "source": [
        "data_test.info()"
      ],
      "execution_count": 30,
      "outputs": [
        {
          "output_type": "stream",
          "text": [
            "<class 'pandas.core.frame.DataFrame'>\n",
            "Index: 1259 entries, 07/16/2021 to 07/18/2016\n",
            "Data columns (total 6 columns):\n",
            " #   Column              Non-Null Count  Dtype  \n",
            "---  ------              --------------  -----  \n",
            " 0   Close/Last          1259 non-null   float64\n",
            " 1   Volume              1259 non-null   float64\n",
            " 2   Open                1259 non-null   float64\n",
            " 3   High                1259 non-null   float64\n",
            " 4   Low                 1259 non-null   float64\n",
            " 5   Close: 30 Day Mean  1230 non-null   float64\n",
            "dtypes: float64(6)\n",
            "memory usage: 108.9+ KB\n"
          ],
          "name": "stdout"
        }
      ]
    },
    {
      "cell_type": "code",
      "metadata": {
        "id": "dHNgaieumpAv"
      },
      "source": [
        "test_set=data_test['Open']\n",
        "test_set= pd.DataFrame(test_set)"
      ],
      "execution_count": 31,
      "outputs": []
    },
    {
      "cell_type": "code",
      "metadata": {
        "colab": {
          "base_uri": "https://localhost:8080/"
        },
        "id": "aLVdzQsxnSiO",
        "outputId": "9bafc9a4-8f55-4b37-bb68-6ea9b434da66"
      },
      "source": [
        "test_set.info()"
      ],
      "execution_count": 33,
      "outputs": [
        {
          "output_type": "stream",
          "text": [
            "<class 'pandas.core.frame.DataFrame'>\n",
            "Index: 1259 entries, 07/16/2021 to 07/18/2016\n",
            "Data columns (total 1 columns):\n",
            " #   Column  Non-Null Count  Dtype  \n",
            "---  ------  --------------  -----  \n",
            " 0   Open    1259 non-null   float64\n",
            "dtypes: float64(1)\n",
            "memory usage: 59.7+ KB\n"
          ],
          "name": "stdout"
        }
      ]
    },
    {
      "cell_type": "code",
      "metadata": {
        "id": "LybjkxX8nUqn"
      },
      "source": [
        "data_total = pd.concat((fb_data['Open'], data_test['Open']), axis=0)\n",
        "inputs =data_total[len(data_total)-len(data_test)-60:].values\n",
        "inputs=inputs.reshape(-1,1)\n",
        "inputs= sc.transform(inputs)\n",
        "X_test=[]\n",
        "for i in range(60,80):\n",
        "  X_test.append(inputs[i-60:i,0])\n",
        "X_test= np.array(X_test)\n",
        "X_test= np.reshape(X_test, (X_test.shape[0], X_test.shape[1], 1))\n",
        "predicted_price= regressor.predict(X_test)\n",
        "predicted_price= sc.inverse_transform(predicted_price)"
      ],
      "execution_count": 34,
      "outputs": []
    },
    {
      "cell_type": "code",
      "metadata": {
        "colab": {
          "base_uri": "https://localhost:8080/"
        },
        "id": "8FHpgOAKqxEE",
        "outputId": "694d1090-5fd5-4880-b0ca-905b28585210"
      },
      "source": [
        "predicted_price= pd.DataFrame(predicted_price)\n",
        "predicted_price.info()"
      ],
      "execution_count": 35,
      "outputs": [
        {
          "output_type": "stream",
          "text": [
            "<class 'pandas.core.frame.DataFrame'>\n",
            "RangeIndex: 20 entries, 0 to 19\n",
            "Data columns (total 1 columns):\n",
            " #   Column  Non-Null Count  Dtype  \n",
            "---  ------  --------------  -----  \n",
            " 0   0       20 non-null     float32\n",
            "dtypes: float32(1)\n",
            "memory usage: 208.0 bytes\n"
          ],
          "name": "stdout"
        }
      ]
    },
    {
      "cell_type": "code",
      "metadata": {
        "colab": {
          "base_uri": "https://localhost:8080/",
          "height": 295
        },
        "id": "1Hfzdmcmq99J",
        "outputId": "150847d1-c8d7-4fb6-a53f-ea5b61798de1"
      },
      "source": [
        "  plt.plot(real_stock_price, color='red', label= 'Real Facebook Stock Price')\n",
        "  plt.plot(predicted_price, color='blue', label='Predicted Facebook Stock Price')\n",
        "  plt.title('Facebook Price Prediction')\n",
        "  plt.xlabel('Time')\n",
        "  plt.ylabel('Facebook Stock Price')\n",
        "  plt.legend()\n",
        "  plt.show()"
      ],
      "execution_count": 36,
      "outputs": [
        {
          "output_type": "display_data",
          "data": {
            "image/png": "[encoded data removed]",
            "text/plain": [
              "<Figure size 432x288 with 1 Axes>"
            ]
          },
          "metadata": {
            "tags": [],
            "needs_background": "light"
          }
        }
      ]
    },
    {
      "cell_type": "code",
      "metadata": {
        "id": "7NeyBI6lHy76"
      },
      "source": [
        ""
      ],
      "execution_count": null,
      "outputs": []
    }
  ]
}